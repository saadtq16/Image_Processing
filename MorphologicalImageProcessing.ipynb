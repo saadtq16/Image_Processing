{
  "nbformat": 4,
  "nbformat_minor": 0,
  "metadata": {
    "colab": {
      "name": "dip_lab10_SaadTariq.ipynb",
      "provenance": [],
      "collapsed_sections": []
    },
    "kernelspec": {
      "name": "python3",
      "display_name": "Python 3"
    }
  },
  "cells": [
    {
      "cell_type": "markdown",
      "metadata": {
        "id": "ZKHDqLpPqINf",
        "colab_type": "text"
      },
      "source": [
        "# **Digital Image Processing (EE-433) - Lab #10**\n",
        "\n",
        "***Morphological Image Processing***\n",
        "\n",
        "Name: Muhammad Saad Tariq\n",
        "\n",
        "Cms: 224921\n",
        "\n",
        "Class: BSCS-7A"
      ]
    },
    {
      "cell_type": "code",
      "metadata": {
        "id": "vZuhs8hQ-0EG",
        "colab_type": "code",
        "outputId": "1c0d9ba6-cfee-4619-fdc9-384343eb7d38",
        "colab": {
          "base_uri": "https://localhost:8080/",
          "height": 543
        }
      },
      "source": [
        "########## Task1 - custom morphological erode operation ##########\n",
        "import numpy as np\n",
        "import cv2\n",
        "from google.colab.patches import cv2_imshow\n",
        "\n",
        "#CREATING EROSION FUNCTION\n",
        "def erode(inp, s_e, bg, startV, endV ,startH, endH, step, md):\n",
        "  step_h = s_e.shape[0]\n",
        "  step_w = s_e.shape[1]\n",
        "  for i in range(startV, endV, step):\n",
        "    for j in range(startH, endH, step):\n",
        "      check = 0\n",
        "      for x in range(0,step_h):\n",
        "        for y in range(0,step_w):\n",
        "          if md == 0:\n",
        "            if inp[(i+x),(j+y)] == s_e[x,y]:\n",
        "              check += 1\n",
        "          elif md == 1:\n",
        "            if inp[(i-x),(j-y)] == s_e[x,y]:\n",
        "              check += 1\n",
        "      #check for FIT principle\n",
        "      if check != (step_h*step_w):\n",
        "        inp[i,j] = bg\n",
        "  return inp\n",
        "\n",
        "img = cv2.imread('fp.tif', 0)\n",
        "h = int(img.shape[0])\n",
        "w = int(img.shape[1])\n",
        "print('Original Image:')\n",
        "cv2_imshow(img)\n",
        "\n",
        "#create a structuring element\n",
        "SE = np.ones([3,3])\n",
        "SE *= 255\n",
        "step_h = int(SE.shape[0])\n",
        "step_w = int(SE.shape[1])\n",
        "temp = np.copy(img)\n",
        "\n",
        "#define background pixel value [black(0) or white(255)]\n",
        "bgcl = 0\n",
        "\n",
        "#call function\n",
        "eroded = erode(temp, SE, bgcl, 0, (h-step_h), 0, (w-step_w), 1, 0)\n",
        "\n",
        "#to cater last rows and columns\n",
        "eroded = erode(eroded, SE, bgcl, (h-1), 0, (w-1), (w-step_w-1), -1, 1)\n",
        "eroded = erode(eroded, SE, bgcl, (h-1), (h-step_h-1), (w-1), 0, -1, 1)\n",
        "\n",
        "print('\\nImage after Erosion:')\n",
        "cv2_imshow(eroded)"
      ],
      "execution_count": 0,
      "outputs": [
        {
          "output_type": "stream",
          "text": [
            "Original Image:\n"
          ],
          "name": "stdout"
        },
        {
          "output_type": "display_data",
          "data": {
            "image/png": "[encoded data removed]",
            "text/plain": [
              "<PIL.Image.Image image mode=L size=315x238 at 0x7F2B04EB1390>"
            ]
          },
          "metadata": {
            "tags": []
          }
        },
        {
          "output_type": "stream",
          "text": [
            "\n",
            "Image after Erosion:\n"
          ],
          "name": "stdout"
        },
        {
          "output_type": "display_data",
          "data": {
            "image/png": "[encoded data removed]",
            "text/plain": [
              "<PIL.Image.Image image mode=L size=315x238 at 0x7F2B04EB13C8>"
            ]
          },
          "metadata": {
            "tags": []
          }
        }
      ]
    },
    {
      "cell_type": "code",
      "metadata": {
        "id": "tvB4Uqlv8wXf",
        "colab_type": "code",
        "outputId": "7816efe1-dfd4-4539-c3df-2b904143f0d3",
        "colab": {
          "base_uri": "https://localhost:8080/",
          "height": 1000
        }
      },
      "source": [
        "############### Erosion on Fig01.tif (uses erode function from last cell) ###############\n",
        "# *********** Taking black as foreground and white as background***********\n",
        "\n",
        "#Effect expected: Only regions with majority black pixels will remain otherwise white background will expand - \n",
        "#the rectangular boxes will become all white and become part of background, and the smaller boxes in top strip of increasing black boxes will also fade away \n",
        "\n",
        "img = cv2.imread('Fig01.tif', 0)\n",
        "h = int(img.shape[0])\n",
        "w = int(img.shape[1])\n",
        "print('Original Image:')\n",
        "cv2_imshow(img)\n",
        "\n",
        "#create a structuring element\n",
        "SE = np.ones([3,3])\n",
        "SE *= 0\n",
        "step_h = int(SE.shape[0])\n",
        "step_w = int(SE.shape[1])\n",
        "test = np.copy(img)\n",
        "\n",
        "#define background as white(255)\n",
        "bgcl = 255\n",
        "\n",
        "#call function\n",
        "eroded = erode(test, SE, bgcl, 0, (h-step_h), 0, (w-step_w), 1, 0)\n",
        "\n",
        "#to cater last rows and columns\n",
        "eroded = erode(eroded, SE, bgcl, (h-1), 0, (w-1), (w-step_w-1), -1, 1)\n",
        "eroded = erode(eroded, SE, bgcl, (h-1), (h-step_h-1), (w-1), 0, -1, 1)\n",
        "\n",
        "print('\\nImage after Erosion:')\n",
        "cv2_imshow(eroded)\n"
      ],
      "execution_count": 0,
      "outputs": [
        {
          "output_type": "stream",
          "text": [
            "Original Image:\n"
          ],
          "name": "stdout"
        },
        {
          "output_type": "display_data",
          "data": {
            "image/png": "[encoded data removed]",
            "text/plain": [
              "<PIL.Image.Image image mode=L size=500x500 at 0x7F2B05714438>"
            ]
          },
          "metadata": {
            "tags": []
          }
        },
        {
          "output_type": "stream",
          "text": [
            "\n",
            "Image after Erosion:\n"
          ],
          "name": "stdout"
        },
        {
          "output_type": "display_data",
          "data": {
            "image/png": "[encoded data removed]",
            "text/plain": [
              "<PIL.Image.Image image mode=L size=500x500 at 0x7F2B05714518>"
            ]
          },
          "metadata": {
            "tags": []
          }
        }
      ]
    },
    {
      "cell_type": "code",
      "metadata": {
        "id": "NLO4iwlTv2Pq",
        "colab_type": "code",
        "outputId": "6f5ce842-a305-47c4-f5a5-466eefc311e7",
        "colab": {
          "base_uri": "https://localhost:8080/",
          "height": 955
        }
      },
      "source": [
        "########## Task2 - custom morphological dilate operation ##########\n",
        "import numpy as np\n",
        "import cv2\n",
        "from google.colab.patches import cv2_imshow\n",
        "\n",
        "#CREATING DILATION FUNCTION\n",
        "def dilate(inp, s_e, fg, startV, endV ,startH, endH, step, md):\n",
        "  step_h = s_e.shape[0]\n",
        "  step_w = s_e.shape[1]\n",
        "  for i in range(startV, endV, step):\n",
        "    for j in range(startH, endH, step):\n",
        "      check = 0\n",
        "      for x in range(0,step_h):\n",
        "        for y in range(0,step_w):\n",
        "          if md == 0:\n",
        "            if inp[(i+x),(j+y)] == s_e[x,y]:\n",
        "              check += 1\n",
        "          elif md == 1:\n",
        "            if inp[(i-x),(j-y)] == s_e[x,y]:\n",
        "              check += 1\n",
        "      #check for HIT principle\n",
        "      if check >= 1:\n",
        "        inp[i,j] = fg\n",
        "  return inp\n",
        "\n",
        "\n",
        "img = cv2.imread('broken_text.tif', 0)\n",
        "h = int(img.shape[0])\n",
        "w = int(img.shape[1])\n",
        "print('Original Image:')\n",
        "cv2_imshow(img)\n",
        "\n",
        "#create a structuring element\n",
        "SE = np.ones([3,3])\n",
        "SE *= 255\n",
        "step_h = int(SE.shape[0])\n",
        "step_w = int(SE.shape[1])\n",
        "temp = np.copy(img)\n",
        "\n",
        "#define foreground as white(255)\n",
        "fgcl = 255\n",
        "\n",
        "#call function\n",
        "dilated = dilate(temp, SE, fgcl, 0, (h-step_h), 0, (w-step_w), 1, 0)\n",
        "\n",
        "#to cater last rows and columns\n",
        "dilated = dilate(dilated, SE, fgcl, (h-1), 0, (w-1), (w-step_w-1), -1, 1)\n",
        "dilated = dilate(dilated, SE, fgcl, (h-1), (h-step_h-1), (w-1), 0, -1, 1)\n",
        "\n",
        "print('\\nImage after Dilation:')\n",
        "cv2_imshow(dilated)"
      ],
      "execution_count": 0,
      "outputs": [
        {
          "output_type": "stream",
          "text": [
            "Original Image:\n"
          ],
          "name": "stdout"
        },
        {
          "output_type": "display_data",
          "data": {
            "image/png": "[encoded data removed]",
            "text/plain": [
              "<PIL.Image.Image image mode=L size=508x444 at 0x7F2B04EA30B8>"
            ]
          },
          "metadata": {
            "tags": []
          }
        },
        {
          "output_type": "stream",
          "text": [
            "\n",
            "Image after Dilation:\n"
          ],
          "name": "stdout"
        },
        {
          "output_type": "display_data",
          "data": {
            "image/png": "[encoded data removed]",
            "text/plain": [
              "<PIL.Image.Image image mode=L size=508x444 at 0x7F2B04EA3080>"
            ]
          },
          "metadata": {
            "tags": []
          }
        }
      ]
    },
    {
      "cell_type": "code",
      "metadata": {
        "id": "fCkTLo-JyFtv",
        "colab_type": "code",
        "outputId": "b1a2c1d4-7d6b-4dd5-ae0a-a00475e10b07",
        "colab": {
          "base_uri": "https://localhost:8080/",
          "height": 1000
        }
      },
      "source": [
        "############### Dilation on Fig01.tif (uses dilate function from last cell) ###############\n",
        "# *********** Taking black as foreground and white as background***********\n",
        "\n",
        "#Effect expected: All black regions will expand and the rectangular boxes will be completely filled with black\n",
        "import numpy as np\n",
        "import cv2\n",
        "from google.colab.patches import cv2_imshow\n",
        "\n",
        "img = cv2.imread('Fig01.tif', 0)\n",
        "h = int(img.shape[0])\n",
        "w = int(img.shape[1])\n",
        "print('Original Image:')\n",
        "cv2_imshow(img)\n",
        "\n",
        "#create a structuring element\n",
        "SE = np.ones([3,3])\n",
        "SE *= 255\n",
        "step_h = int(SE.shape[0])\n",
        "step_w = int(SE.shape[1])\n",
        "temp = np.copy(img)\n",
        "\n",
        "#define foreground as black(0)\n",
        "fgcl = 0\n",
        "\n",
        "#call function\n",
        "dilated = dilate(temp, SE, fgcl, 0, (h-step_h), 0, (w-step_w), 1, 0)\n",
        "\n",
        "#to cater last rows and columns\n",
        "dilated = dilate(dilated, SE, fgcl, (h-1), 0, (w-1), (w-step_w-1), -1, 1)\n",
        "dilated = dilate(dilated, SE, fgcl, (h-1), (h-step_h-1), (w-1), 0, -1, 1)\n",
        "\n",
        "print('\\nImage after Dilation:')\n",
        "cv2_imshow(dilated)"
      ],
      "execution_count": 0,
      "outputs": [
        {
          "output_type": "stream",
          "text": [
            "Original Image:\n"
          ],
          "name": "stdout"
        },
        {
          "output_type": "display_data",
          "data": {
            "image/png": "[encoded data removed]",
            "text/plain": [
              "<PIL.Image.Image image mode=L size=500x500 at 0x7F2B05714C18>"
            ]
          },
          "metadata": {
            "tags": []
          }
        },
        {
          "output_type": "stream",
          "text": [
            "\n",
            "Image after Dilation:\n"
          ],
          "name": "stdout"
        },
        {
          "output_type": "display_data",
          "data": {
            "image/png": "[encoded data removed]",
            "text/plain": [
              "<PIL.Image.Image image mode=L size=500x500 at 0x7F2B05714EF0>"
            ]
          },
          "metadata": {
            "tags": []
          }
        }
      ]
    },
    {
      "cell_type": "code",
      "metadata": {
        "id": "XganhhI-mzfQ",
        "colab_type": "code",
        "outputId": "3e53c66f-a786-4b33-80b8-7d6b0612b1bf",
        "colab": {
          "base_uri": "https://localhost:8080/",
          "height": 1000
        }
      },
      "source": [
        "############### Task 3 - dilation and erosion on gray scale images ###############\n",
        "import numpy as np\n",
        "import cv2\n",
        "from google.colab.patches import cv2_imshow\n",
        "\n",
        "img = cv2.imread('Fig01.tif', 0)\n",
        "h = int(img.shape[0])\n",
        "w = int(img.shape[1])\n",
        "print('Original Image:')\n",
        "cv2_imshow(img)\n",
        "\n",
        "#create a structuring element\n",
        "s_e = np.ones([5,5])\n",
        "step_h = int(s_e.shape[0])\n",
        "step_w = int(s_e.shape[1])\n",
        "dilated = np.copy(img)\n",
        "\n",
        "#gray-scale dilation\n",
        "for i in range(0,h-step_h):\n",
        "  for j in range(0,w-step_w):\n",
        "    for x in range(0,step_h):\n",
        "      for y in range(0,step_w):\n",
        "        s_e[x,y] = dilated[i+x,j+y]\n",
        "        #print(s_e[x,y])\n",
        "    sel = np.max(s_e)\n",
        "    dilated[i,j] = sel\n",
        "\n",
        "print('\\nImage after Dilation:')\n",
        "cv2_imshow(dilated)\n",
        "\n",
        "eroded = np.copy(img)\n",
        "\n",
        "#gray-scale erosion\n",
        "for i in range(0,h-step_h):\n",
        "  for j in range(0,w-step_w):\n",
        "    for x in range(0,step_h):\n",
        "      for y in range(0,step_w):\n",
        "        s_e[x,y] = eroded[i+x,j+y]\n",
        "        #print(s_e[x,y])\n",
        "    sel = np.min(s_e)\n",
        "    dilated[i,j] = sel\n",
        "    #s_e *= 1\n",
        "\n",
        "print('\\nImage after Erosion:')\n",
        "cv2_imshow(eroded)"
      ],
      "execution_count": 0,
      "outputs": [
        {
          "output_type": "stream",
          "text": [
            "Original Image:\n"
          ],
          "name": "stdout"
        },
        {
          "output_type": "display_data",
          "data": {
            "image/png": "[encoded data removed]",
            "text/plain": [
              "<PIL.Image.Image image mode=L size=500x500 at 0x7F2AFBE246A0>"
            ]
          },
          "metadata": {
            "tags": []
          }
        },
        {
          "output_type": "stream",
          "text": [
            "\n",
            "Image after Dilation:\n"
          ],
          "name": "stdout"
        },
        {
          "output_type": "display_data",
          "data": {
            "image/png": "[encoded data removed]",
            "text/plain": [
              "<PIL.Image.Image image mode=L size=500x500 at 0x7F2AFBE246A0>"
            ]
          },
          "metadata": {
            "tags": []
          }
        },
        {
          "output_type": "stream",
          "text": [
            "\n",
            "Image after Erosion:\n"
          ],
          "name": "stdout"
        },
        {
          "output_type": "display_data",
          "data": {
            "image/png": "[encoded data removed]",
            "text/plain": [
              "<PIL.Image.Image image mode=L size=500x500 at 0x7F2AFBE246D8>"
            ]
          },
          "metadata": {
            "tags": []
          }
        }
      ]
    },
    {
      "cell_type": "code",
      "metadata": {
        "id": "NlwW2h9udWVP",
        "colab_type": "code",
        "outputId": "52732ac6-490a-458b-e3e2-e97e8fd9032d",
        "colab": {
          "base_uri": "https://localhost:8080/",
          "height": 1000
        }
      },
      "source": [
        "############### Task 4 - separating different shapes ###############\n",
        "import numpy as np\n",
        "import cv2\n",
        "from google.colab.patches import cv2_imshow\n",
        "\n",
        "img = cv2.imread('Objects.png', 0)\n",
        "h = int(img.shape[0])\n",
        "w = int(img.shape[1])\n",
        "print('Original Image:')\n",
        "cv2_imshow(img)\n",
        "\n",
        "#separating ellipse\n",
        "s_e = cv2.getStructuringElement(cv2.MORPH_ELLIPSE, (9,9))\n",
        "elps = cv2.morphologyEx(img, cv2.MORPH_OPEN, s_e, iterations = 10)\n",
        "print('\\nSeparating Ellipse: ')\n",
        "cv2_imshow(elps)\n",
        "\n",
        "#sseparating diamond\n",
        "s_e = cv2.getStructuringElement(cv2.MORPH_CROSS, (9,9))\n",
        "dim = cv2.morphologyEx(img, cv2.MORPH_OPEN, s_e, iterations = 12)\n",
        "print('\\nSeparating Diamond: ')\n",
        "cv2_imshow(dim)\n",
        "\n",
        "#sseparating rectangle\n",
        "s_e = cv2.getStructuringElement(cv2.MORPH_RECT, (7,7))\n",
        "rect = cv2.morphologyEx(img, cv2.MORPH_OPEN, s_e, iterations = 12)\n",
        "print('\\nSeparating Rectangle: ')\n",
        "cv2_imshow(rect)"
      ],
      "execution_count": 0,
      "outputs": [
        {
          "output_type": "stream",
          "text": [
            "Original Image:\n"
          ],
          "name": "stdout"
        },
        {
          "output_type": "display_data",
          "data": {
            "image/png": "[encoded data removed]",
            "text/plain": [
              "<PIL.Image.Image image mode=L size=443x269 at 0x7F2B05714B00>"
            ]
          },
          "metadata": {
            "tags": []
          }
        },
        {
          "output_type": "stream",
          "text": [
            "\n",
            "Separating Ellipse: \n"
          ],
          "name": "stdout"
        },
        {
          "output_type": "display_data",
          "data": {
            "image/png": "[encoded data removed]",
            "text/plain": [
              "<PIL.Image.Image image mode=L size=443x269 at 0x7F2B05714B00>"
            ]
          },
          "metadata": {
            "tags": []
          }
        },
        {
          "output_type": "stream",
          "text": [
            "\n",
            "Separating Diamond: \n"
          ],
          "name": "stdout"
        },
        {
          "output_type": "display_data",
          "data": {
            "image/png": "[encoded data removed]",
            "text/plain": [
              "<PIL.Image.Image image mode=L size=443x269 at 0x7F2B05714B00>"
            ]
          },
          "metadata": {
            "tags": []
          }
        },
        {
          "output_type": "stream",
          "text": [
            "\n",
            "Separating Rectangle: \n"
          ],
          "name": "stdout"
        },
        {
          "output_type": "display_data",
          "data": {
            "image/png": "[encoded data removed]",
            "text/plain": [
              "<PIL.Image.Image image mode=L size=443x269 at 0x7F2B05714B00>"
            ]
          },
          "metadata": {
            "tags": []
          }
        }
      ]
    }
  ]
}